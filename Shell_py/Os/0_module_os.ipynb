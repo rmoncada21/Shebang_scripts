{
 "cells": [
  {
   "cell_type": "markdown",
   "id": "9d44ef4b",
   "metadata": {},
   "source": [
    "# Obtener información del sistema con Python OS"
   ]
  },
  {
   "cell_type": "markdown",
   "id": "8ba3ea58",
   "metadata": {},
   "source": [
    "## Obtener información del sistema\n",
    "- os.name\n",
    "- os.uname()\n",
    "- os.platform"
   ]
  },
  {
   "cell_type": "code",
   "execution_count": null,
   "id": "ed3fb851",
   "metadata": {},
   "outputs": [],
   "source": [
    "import os\n",
    "import platform\n",
    "\n",
    "# Obterer información del sistema con os.name & os.uname()\n",
    "tipo_sistema = os.name\n",
    "print(f\"Tipo de sistema operativo: $ {tipo_sistema}\")\n",
    "\n",
    "informacion_sistema = os.uname()\n",
    "print(f\"Información general: {informacion_sistema}\")\n",
    "print (f\"Sistema operativo: $ {informacion_sistema.sysname}\")\n",
    "print(f\"Nombre del dispositivo: $ {informacion_sistema.nodename}\")\n",
    "print(f\"Release: $ {informacion_sistema.release}\")\n",
    "print(f\"Arquitectura: $ {informacion_sistema.machine}\")\n",
    "\n",
    "# Obtener información del sistema con os.platform\n",
    "informacion_plataform = platform.uname()\n",
    "print(f\"\\nInformación general: {informacion_plataform}\")\n",
    "print(f\"Sistema operativo: $ {informacion_plataform.system}\")\n",
    "print(f\"Nombre del dispositivo: $ {informacion_plataform.node}\")\n",
    "print(f\"Release: $ {informacion_plataform.release}\")\n",
    "print(f\"Arquitectura: $ {informacion_plataform.machine}\")\n",
    "print(\"\\nPlataforma\", platform.platform())"
   ]
  },
  {
   "cell_type": "markdown",
   "id": "1e5197c0",
   "metadata": {},
   "source": [
    "## Obterner información del directorio de trabajo\n",
    "- os.path.metodos"
   ]
  },
  {
   "cell_type": "code",
   "execution_count": null,
   "id": "d3639d4e",
   "metadata": {},
   "outputs": [],
   "source": [
    "import os\n",
    "\n",
    "pwd = os.getcwd()\n",
    "print(f\"Dirección: ${pwd}\")\n",
    "\n",
    "# Imprimir contenido de la carpeta\n",
    "files_n_folders = os.listdir(pwd)\n",
    "print(f\"\\nLista de archivos y folders: ${files_n_folders}\")\n",
    "print(\"Observar archivos y folders con for in element \")\n",
    "for element in files_n_folders:\n",
    "    print(f\"{element}\")\n",
    "\n",
    "# Imprimir solo archivos\n",
    "print(f\"\\nMostrar solo archivos del directorio ${pwd}\")\n",
    "for element in files_n_folders:\n",
    "    if os.path.isfile(element):\n",
    "        print(f\"$ {element}\")\n",
    "\n",
    "# Imprimir solo folders\n",
    "print(f\"\\nMostrar solo folders del directorio ${pwd}\")\n",
    "for element in files_n_folders:\n",
    "    if os.path.isdir(element):\n",
    "        print(f\"$ {element}\")\n",
    "\n",
    "# "
   ]
  }
 ],
 "metadata": {
  "kernelspec": {
   "display_name": "Python 3",
   "language": "python",
   "name": "python3"
  },
  "language_info": {
   "codemirror_mode": {
    "name": "ipython",
    "version": 3
   },
   "file_extension": ".py",
   "mimetype": "text/x-python",
   "name": "python",
   "nbconvert_exporter": "python",
   "pygments_lexer": "ipython3",
   "version": "3.11.2"
  }
 },
 "nbformat": 4,
 "nbformat_minor": 5
}
